{
 "cells": [
  {
   "cell_type": "code",
   "execution_count": 3,
   "id": "e329767a",
   "metadata": {},
   "outputs": [
    {
     "name": "stdout",
     "output_type": "stream",
     "text": [
      "(8+0j) 8.0 8\n",
      "8.0\n"
     ]
    }
   ],
   "source": [
    "#python casting\n",
    "i = 8.0\n",
    "z= complex(i)\n",
    "r = str(i)\n",
    "y = float(i)\n",
    "t = int(y)\n",
    "print(z,y,t)\n",
    "print(r)"
   ]
  },
  {
   "cell_type": "code",
   "execution_count": 4,
   "id": "25986149",
   "metadata": {},
   "outputs": [
    {
     "name": "stdout",
     "output_type": "stream",
     "text": [
      "IAM A YOUTH\n"
     ]
    }
   ],
   "source": [
    "age1=30\n",
    "age2=18\n",
    "if age1<=35 and age2>=18:\n",
    "    print(\"IAM A YOUTH\")"
   ]
  },
  {
   "cell_type": "code",
   "execution_count": 5,
   "id": "b26d082d",
   "metadata": {},
   "outputs": [
    {
     "name": "stdout",
     "output_type": "stream",
     "text": [
      "ORDER JAMMED\n"
     ]
    }
   ],
   "source": [
    "#lists\n",
    "icecream_toppings=['mushrooms', 'caramel','strawberry']\n",
    "toppings='chocolate'\n",
    "\n",
    "if toppings not in icecream_toppings:\n",
    "    print(\"ORDER JAMMED\")"
   ]
  },
  {
   "cell_type": "code",
   "execution_count": 6,
   "id": "b683acdd",
   "metadata": {},
   "outputs": [],
   "source": [
    "#BOOLEANS\n",
    "Arsenal=False\n",
    "MAN_U= True"
   ]
  },
  {
   "cell_type": "code",
   "execution_count": null,
   "id": "cec0b5fd",
   "metadata": {},
   "outputs": [],
   "source": [
    "#EXERCISE\n",
    "age= int(input(\"ENTER YOUR AGE\"))\n",
    "required=18\n",
    "if age>=18:\n",
    "    print(\"YOU ARE A CERTIFIED VOTER\")\n",
    "else:\n",
    "    print(\"PLEASE COME BACK AFTER\",required-age,\" YEARS\")"
   ]
  },
  {
   "cell_type": "code",
   "execution_count": null,
   "id": "ca2e6476",
   "metadata": {},
   "outputs": [],
   "source": [
    "#if-ELIF-ELSE\n",
    "age=12\n",
    "if age<4:\n",
    "    price=0\n",
    "elif age<18:\n",
    "    price=25\n",
    "elif age>65\n",
    "    price=40\n",
    "else:\n",
    "    price=20\n",
    "print(\"Your admission fee is $[price]\")\n",
    "    "
   ]
  },
  {
   "cell_type": "code",
   "execution_count": null,
   "id": "b031c023",
   "metadata": {},
   "outputs": [],
   "source": []
  },
  {
   "cell_type": "code",
   "execution_count": null,
   "id": "72076875",
   "metadata": {},
   "outputs": [],
   "source": []
  }
 ],
 "metadata": {
  "kernelspec": {
   "display_name": "Python 3 (ipykernel)",
   "language": "python",
   "name": "python3"
  },
  "language_info": {
   "codemirror_mode": {
    "name": "ipython",
    "version": 3
   },
   "file_extension": ".py",
   "mimetype": "text/x-python",
   "name": "python",
   "nbconvert_exporter": "python",
   "pygments_lexer": "ipython3",
   "version": "3.9.12"
  }
 },
 "nbformat": 4,
 "nbformat_minor": 5
}
