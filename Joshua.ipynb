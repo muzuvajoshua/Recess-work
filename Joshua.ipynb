{
 "cells": [
  {
   "cell_type": "code",
   "execution_count": 2,
   "id": "d0ff4b7e",
   "metadata": {},
   "outputs": [
    {
     "name": "stdout",
     "output_type": "stream",
     "text": [
      "jeep\n",
      "ford\n",
      "Toyota\n",
      "jeepfordToyota\n",
      "jeep ford Toyota\n"
     ]
    }
   ],
   "source": [
    "x = 'jeep'\n",
    "y = 'ford'\n",
    "z = 'Toyota'\n",
    "print(x)\n",
    "print(y)\n",
    "print(z)\n",
    "print(x + y + z)\n",
    "print(x , y , z)"
   ]
  },
  {
   "cell_type": "code",
   "execution_count": 4,
   "id": "42bb36a9",
   "metadata": {},
   "outputs": [
    {
     "name": "stdout",
     "output_type": "stream",
     "text": [
      "JOSHUA21True\n"
     ]
    }
   ],
   "source": [
    "name = \"JOSHUA\"\n",
    "age = \"21\"\n",
    "is_a_new_Student = 'True'\n",
    "print(name+age+is_a_new_Student)"
   ]
  },
  {
   "cell_type": "code",
   "execution_count": 5,
   "id": "a95e6134",
   "metadata": {},
   "outputs": [
    {
     "name": "stdout",
     "output_type": "stream",
     "text": [
      "Please enter your name here\n",
      "Joshua\n",
      "Please enter your color here\n",
      "Blue\n",
      "JoshualikesBlue\n"
     ]
    }
   ],
   "source": [
    "print('Please enter your name here')\n",
    "Names = input()\n",
    "print('Please enter your color here')\n",
    "Fav_color = input()\n",
    "print(Names+'likes'+Fav_color)"
   ]
  },
  {
   "cell_type": "code",
   "execution_count": null,
   "id": "20b824f7",
   "metadata": {},
   "outputs": [],
   "source": []
  }
 ],
 "metadata": {
  "kernelspec": {
   "display_name": "Python 3 (ipykernel)",
   "language": "python",
   "name": "python3"
  },
  "language_info": {
   "codemirror_mode": {
    "name": "ipython",
    "version": 3
   },
   "file_extension": ".py",
   "mimetype": "text/x-python",
   "name": "python",
   "nbconvert_exporter": "python",
   "pygments_lexer": "ipython3",
   "version": "3.9.12"
  }
 },
 "nbformat": 4,
 "nbformat_minor": 5
}
