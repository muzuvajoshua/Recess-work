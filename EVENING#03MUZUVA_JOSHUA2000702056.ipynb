{
 "cells": [
  {
   "cell_type": "code",
   "execution_count": 14,
   "id": "aede7868",
   "metadata": {},
   "outputs": [
    {
     "name": "stdout",
     "output_type": "stream",
     "text": [
      "AFTERNOON\n",
      "9\n",
      "ERNOO\n",
      "\n",
      "afternoon\n",
      "Afternoon\n"
     ]
    }
   ],
   "source": [
    "#slicing strings - returns a range of values using the slicing index\n",
    "session = 'AFTERNOON'\n",
    "print(session)\n",
    "print(len(session))\n",
    "print(session[3:8])\n",
    "print(session[-2:-5])\n",
    "print(session.lower())\n",
    "print(session.title())"
   ]
  },
  {
   "cell_type": "code",
   "execution_count": 12,
   "id": "0337fcba",
   "metadata": {},
   "outputs": [
    {
     "name": "stdout",
     "output_type": "stream",
     "text": [
      "hello you\n",
      "Joshua  Muzuva\n"
     ]
    }
   ],
   "source": [
    "a = 'hello you'\n",
    "print(a.strip())#removes any white space from the beginning or end\n",
    "#concatenating strings\n",
    "First_name = \"Joshua\"\n",
    "last_name = \"Muzuva\"\n",
    "print(First_name+\" \" +\" \"+ last_name)"
   ]
  },
  {
   "cell_type": "code",
   "execution_count": 16,
   "id": "dc8cf21c",
   "metadata": {},
   "outputs": [
    {
     "name": "stdout",
     "output_type": "stream",
     "text": [
      "my age is 67\n",
      "l want to pay 49.78 dollars for 8 pieces of item678\n"
     ]
    }
   ],
   "source": [
    "#formating strings\n",
    "age =67\n",
    "txt = \"my age is {}\"\n",
    "print(txt.format(age))\n",
    "\n",
    "Quantity =8\n",
    "itemno = 678\n",
    "price = 49.78\n",
    "\n",
    "my_order = \"l want to pay {3} dollars for {5} pieces of item{8}\"\n",
    "print(f\"l want to pay {price} dollars for {Quantity} pieces of item{itemno}\")"
   ]
  },
  {
   "cell_type": "code",
   "execution_count": 29,
   "id": "0ad5bce1",
   "metadata": {},
   "outputs": [
    {
     "name": "stdout",
     "output_type": "stream",
     "text": [
      "Phalgmaticallyexhagareted\n",
      "phalgmaticallyexhagareted\n",
      "                                     Phalgmaticallyexhagareted                                      \n",
      "11\n",
      "b'i am your brother'\n"
     ]
    }
   ],
   "source": [
    "#String methods\n",
    "word = \"Phalgmaticallyexhagareted\"\n",
    "print(word.capitalize())#converts first letter to capital\n",
    "print(word.casefold())#converts the first letter to small\n",
    "print(word.center(100))#returns a centered string\n",
    "k = \"Miiisisiiippiiii\"\n",
    "print(k.count('i'))\n",
    "f = \"i am your brother\"\n",
    "print(f.encode(encoding=\"ascii\",errors=\"backslashreplace\"))\n"
   ]
  },
  {
   "cell_type": "code",
   "execution_count": 30,
   "id": "a68f2221",
   "metadata": {},
   "outputs": [
    {
     "name": "stdout",
     "output_type": "stream",
     "text": [
      "5\n"
     ]
    }
   ],
   "source": [
    "#Classes in python\n",
    "#creating a class\n",
    "class Myclass:\n",
    "    x=5\n",
    "    \n",
    "#creating an object\n",
    "p1 = Myclass()\n",
    "print(p1.x)"
   ]
  },
  {
   "cell_type": "code",
   "execution_count": 41,
   "id": "982f6734",
   "metadata": {},
   "outputs": [
    {
     "name": "stdout",
     "output_type": "stream",
     "text": [
      "The Baby is called Jane The baby has an age of 5\n"
     ]
    }
   ],
   "source": [
    "#init() method called everytime the class is being used to create a new object\n",
    "class Baby:\n",
    "    def __init__(self,name,age):#function used to assign values like name and age\n",
    "        self.name = name\n",
    "        self.age = age\n",
    "        \n",
    "    def crawl(self):\n",
    "        print(\"The Baby is called\", self.name,\"The baby has an age of\",self.age)\n",
    "        \n",
    "        \n",
    "Person = Baby(\"Jane\", 5)\n",
    "Person.crawl()\n",
    "    "
   ]
  },
  {
   "cell_type": "code",
   "execution_count": 49,
   "id": "9690f137",
   "metadata": {},
   "outputs": [
    {
     "name": "stdout",
     "output_type": "stream",
     "text": [
      "please enter the starting  number you want2\n",
      "please enter the last  number you want9\n",
      "2\n",
      "4\n",
      "6\n",
      "8\n"
     ]
    }
   ],
   "source": [
    "class Numbers:\n",
    "    def __init__(nums,start,end):\n",
    "        nums.start = start\n",
    "        nums.end = end\n",
    "        \n",
    "    def printing(nums):\n",
    "        for n in range(int(nums.start),int(nums.end),2):\n",
    "            print(n)\n",
    " \n",
    "\n",
    "start = input(\"please enter the starting  number you want\")\n",
    "end = input(\"please enter the last  number you want\")\n",
    "\n",
    "Numbers = Numbers(start,end)\n",
    "Numbers.printing()\n",
    "    "
   ]
  },
  {
   "cell_type": "code",
   "execution_count": 6,
   "id": "e735ece6",
   "metadata": {},
   "outputs": [
    {
     "name": "stdout",
     "output_type": "stream",
     "text": [
      "since your parent is called MUZUVA your names are JOSHUA MUZUVA\n",
      "True\n"
     ]
    }
   ],
   "source": [
    "#inheritance\n",
    "class Parent:\n",
    "    def __init__(self,lname):#family name from parent\n",
    "        self.lname = lname\n",
    "        \n",
    "    def familyName(self):\n",
    "        print(self.lname)\n",
    "        \n",
    "\n",
    "class Child(Parent):#child who inherits the parent names\n",
    "    def __init__(self,lname,fname):\n",
    "        super().__init__(lname)\n",
    "        self.fname = fname\n",
    "        \n",
    "    def Names(self):\n",
    "        print(\"since your parent is called\",self.lname,\"your names are\",self.fname,self.lname)\n",
    "        \n",
    "     \n",
    "Mwana = Child(\"MUZUVA\",\"JOSHUA\") \n",
    "Mwana.Names()\n",
    "\n",
    "#issubclass() helps to check if a class is a subclass of the other\n",
    "print(issubclass(Child,Parent))"
   ]
  },
  {
   "cell_type": "code",
   "execution_count": null,
   "id": "9e5f8e7e",
   "metadata": {},
   "outputs": [],
   "source": []
  }
 ],
 "metadata": {
  "kernelspec": {
   "display_name": "Python 3 (ipykernel)",
   "language": "python",
   "name": "python3"
  },
  "language_info": {
   "codemirror_mode": {
    "name": "ipython",
    "version": 3
   },
   "file_extension": ".py",
   "mimetype": "text/x-python",
   "name": "python",
   "nbconvert_exporter": "python",
   "pygments_lexer": "ipython3",
   "version": "3.9.12"
  }
 },
 "nbformat": 4,
 "nbformat_minor": 5
}
