{
 "cells": [
  {
   "cell_type": "code",
   "execution_count": 1,
   "id": "5b6dd07a",
   "metadata": {},
   "outputs": [
    {
     "data": {
      "text/plain": [
       "False"
      ]
     },
     "execution_count": 1,
     "metadata": {},
     "output_type": "execute_result"
    }
   ],
   "source": [
    "# BOOLEANS\n",
    "1>2"
   ]
  },
  {
   "cell_type": "code",
   "execution_count": 9,
   "id": "db900690",
   "metadata": {},
   "outputs": [
    {
     "name": "stdout",
     "output_type": "stream",
     "text": [
      "<class 'bool'>\n",
      "<class 'bool'>\n",
      "False\n",
      "True\n",
      "False\n",
      "False\n",
      "True\n",
      "True\n",
      "False\n"
     ]
    }
   ],
   "source": [
    "print(type(False))\n",
    "print(type(True))\n",
    "a=23\n",
    "b=25\n",
    "print(a==b)\n",
    "# any string is true except an empty one\n",
    "Z={}\n",
    "Y=0.0\n",
    "X=\"Ethel\"\n",
    "print(bool(X))\n",
    "print(bool(Y))\n",
    "print(bool(Z))\n"
   ]
  },
  {
   "cell_type": "code",
   "execution_count": 10,
   "id": "86d0c35f",
   "metadata": {},
   "outputs": [
    {
     "name": "stdout",
     "output_type": "stream",
     "text": [
      "True\n",
      "True\n",
      "False\n"
     ]
    }
   ],
   "source": [
    "# any number is true except the one that is 0\n",
    "var4 =-9.9\n",
    "var2 =1\n",
    "var1=0\n",
    "print(bool(var4))\n",
    "print(bool(var2))\n",
    "print(bool(var1))"
   ]
  },
  {
   "cell_type": "code",
   "execution_count": 12,
   "id": "9fc0019f",
   "metadata": {},
   "outputs": [
    {
     "name": "stdout",
     "output_type": "stream",
     "text": [
      "False\n"
     ]
    }
   ],
   "source": [
    "# a class with __len__function also returns false \n",
    "class myclass():\n",
    "    def __len__(self):\n",
    "        return 0\n",
    "myobj = myclass()\n",
    "print(bool(myobj))\n",
    "    "
   ]
  },
  {
   "cell_type": "code",
   "execution_count": 18,
   "id": "0bc666a3",
   "metadata": {},
   "outputs": [
    {
     "name": "stdout",
     "output_type": "stream",
     "text": [
      "True\n",
      "False\n",
      "all the numbers are true\n"
     ]
    }
   ],
   "source": [
    "#boolean operators \n",
    "# OR operator\n",
    "# True True =True\n",
    "# True False = True\n",
    "# False False = False\n",
    "\n",
    "a=1\n",
    "b=34\n",
    "c= 100\n",
    "if a>b or b<c:\n",
    " print(True)\n",
    "else:\n",
    " print(False)\n",
    "\n",
    "# And operator\n",
    "# True True =True\n",
    "# True False = False\n",
    "# False False = False\n",
    "if a>b and b<c:\n",
    " print(True)\n",
    "else:\n",
    " print(False)\n",
    "\n",
    "if a and b and c: \n",
    "     print(\"all the numbers are true\")\n",
    "else:\n",
    "     print(\"At least one value is false \") \n"
   ]
  },
  {
   "cell_type": "code",
   "execution_count": 19,
   "id": "41839eaf",
   "metadata": {},
   "outputs": [
    {
     "name": "stdout",
     "output_type": "stream",
     "text": [
      "True\n",
      "True\n"
     ]
    }
   ],
   "source": [
    "a= 0\n",
    "b= 1\n",
    "if a==0:\n",
    " print(True)\n",
    "if a==b:\n",
    " print(True)\n",
    "if a!=b:\n",
    " print(True)"
   ]
  },
  {
   "cell_type": "code",
   "execution_count": 25,
   "id": "f0ebb16b",
   "metadata": {},
   "outputs": [
    {
     "name": "stdout",
     "output_type": "stream",
     "text": [
      "10\n",
      "False\n",
      "True\n"
     ]
    }
   ],
   "source": [
    "# is operator\n",
    "a= 10\n",
    "b =10\n",
    "if a is b:\n",
    " print (a)\n",
    "\n",
    "# in lists it returns false because each list is its different \n",
    "z=[\"a\",\"b\",\"c\",\"d\"] \n",
    "y=[\"a\",\"b\",\"c\",\"d\"]\n",
    "print(z is y)\n",
    "\n",
    "# the IN operator\n",
    "x=[\"a\",\"b\",\"c\",\"d\"]\n",
    "if \"a\" in x:\n",
    " print(True)"
   ]
  },
  {
   "cell_type": "code",
   "execution_count": null,
   "id": "7f765bc3",
   "metadata": {},
   "outputs": [],
   "source": [
    "# WHILE loop\n"
   ]
  },
  {
   "cell_type": "code",
   "execution_count": null,
   "id": "fc4520f3",
   "metadata": {},
   "outputs": [],
   "source": []
  },
  {
   "cell_type": "code",
   "execution_count": null,
   "id": "6068c214",
   "metadata": {},
   "outputs": [],
   "source": []
  }
 ],
 "metadata": {
  "kernelspec": {
   "display_name": "Python 3 (ipykernel)",
   "language": "python",
   "name": "python3"
  },
  "language_info": {
   "codemirror_mode": {
    "name": "ipython",
    "version": 3
   },
   "file_extension": ".py",
   "mimetype": "text/x-python",
   "name": "python",
   "nbconvert_exporter": "python",
   "pygments_lexer": "ipython3",
   "version": "3.9.12"
  }
 },
 "nbformat": 4,
 "nbformat_minor": 5
}
