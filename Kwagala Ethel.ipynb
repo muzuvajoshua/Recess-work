{
 "cells": [
  {
   "cell_type": "code",
   "execution_count": 1,
   "id": "5bc47ba0",
   "metadata": {},
   "outputs": [
    {
     "name": "stdout",
     "output_type": "stream",
     "text": [
      "Kwagalakwe Ethel\n"
     ]
    }
   ],
   "source": [
    "#printing my name\n",
    "print(\"Kwagalakwe Ethel\")"
   ]
  },
  {
   "cell_type": "code",
   "execution_count": 3,
   "id": "301c3d3b",
   "metadata": {},
   "outputs": [
    {
     "name": "stdout",
     "output_type": "stream",
     "text": [
      "10\n",
      "5.5\n",
      "4\n",
      "2\n"
     ]
    }
   ],
   "source": [
    "#using variables\n",
    "price = 10\n",
    "qty = 5.5\n",
    "x =4\n",
    "y=2\n",
    "print(price)\n",
    "print(qty)\n",
    "print(x)\n",
    "print(y)"
   ]
  },
  {
   "cell_type": "code",
   "execution_count": 1,
   "id": "92609043",
   "metadata": {},
   "outputs": [
    {
     "name": "stdout",
     "output_type": "stream",
     "text": [
      "Jeep\n",
      "Toyota\n",
      "Audi\n",
      "Jeep Toyota Audi\n"
     ]
    }
   ],
   "source": [
    "#multiple variables\n",
    "x,y,z = 'Jeep','Toyota','Audi'\n",
    "print(x)\n",
    "print(y)\n",
    "print(z)\n",
    "print(x,y,z)"
   ]
  },
  {
   "cell_type": "code",
   "execution_count": 2,
   "id": "5f864994",
   "metadata": {},
   "outputs": [
    {
     "name": "stdout",
     "output_type": "stream",
     "text": [
      "Kwagalakwe Ethel 20 is_a_new_student\n"
     ]
    }
   ],
   "source": [
    "#example1\n",
    "full_name = 'Kwagalakwe Ethel'\n",
    "age = '20'\n",
    "status = \"is_a_new_student\"\n",
    "print(full_name,age,status)\n",
    "#commenting\n",
    "#single line comment\n"
   ]
  },
  {
   "cell_type": "code",
   "execution_count": 3,
   "id": "74946ee5",
   "metadata": {},
   "outputs": [
    {
     "name": "stdout",
     "output_type": "stream",
     "text": [
      "Please enter your name here\n",
      "Jeff\n",
      "Please enter your favourite color here\n",
      "grey\n",
      "Jeff likes grey\n"
     ]
    }
   ],
   "source": [
    "#exercise\n",
    "print('Please enter your name here')\n",
    "Name = input()\n",
    "print('Please enter your favourite color here')\n",
    "fav_color = input()\n",
    "print( Name+' likes '+fav_color)"
   ]
  },
  {
   "cell_type": "code",
   "execution_count": null,
   "id": "55cb7540",
   "metadata": {},
   "outputs": [],
   "source": []
  }
 ],
 "metadata": {
  "kernelspec": {
   "display_name": "Python 3 (ipykernel)",
   "language": "python",
   "name": "python3"
  },
  "language_info": {
   "codemirror_mode": {
    "name": "ipython",
    "version": 3
   },
   "file_extension": ".py",
   "mimetype": "text/x-python",
   "name": "python",
   "nbconvert_exporter": "python",
   "pygments_lexer": "ipython3",
   "version": "3.9.12"
  }
 },
 "nbformat": 4,
 "nbformat_minor": 5
}
