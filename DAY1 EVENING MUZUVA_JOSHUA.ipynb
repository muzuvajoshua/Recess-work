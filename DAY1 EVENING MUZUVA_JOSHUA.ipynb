{
 "cells": [
  {
   "cell_type": "code",
   "execution_count": 1,
   "id": "f16a9351",
   "metadata": {},
   "outputs": [
    {
     "name": "stdout",
     "output_type": "stream",
     "text": [
      "Mushrooms added\n"
     ]
    }
   ],
   "source": [
    "requested_toppings=['mushrooms', 'cheese']\n",
    "if 'mushrooms' in requested_toppings:\n",
    "    print(\"Mushrooms added\")\n"
   ]
  },
  {
   "cell_type": "code",
   "execution_count": 17,
   "id": "d3972c58",
   "metadata": {},
   "outputs": [
    {
     "name": "stdout",
     "output_type": "stream",
     "text": [
      "Your admission fee is ,  25\n"
     ]
    }
   ],
   "source": [
    "#if-ELIF-ELSE\n",
    "age=12\n",
    "if age<4:\n",
    "    price=0\n",
    "elif age<18:\n",
    "    price=25\n",
    "elif age>65:\n",
    "    price=40\n",
    "else:\n",
    "    price=20\n",
    "print(\"Your admission fee is , \", price)"
   ]
  },
  {
   "cell_type": "code",
   "execution_count": 14,
   "id": "af8a1141",
   "metadata": {},
   "outputs": [
    {
     "name": "stdout",
     "output_type": "stream",
     "text": [
      "['Joshua', 'Muzuva', 'Mukisa', 'Joshua', 'Mudavana', 'Charity']\n",
      "Mukisa\n",
      "Mudavana\n",
      "['Muzuva', 'Mukisa', 'Joshua']\n",
      "['Joshua', 'Muzuva', 'Mukisa']\n"
     ]
    }
   ],
   "source": [
    "#more on lists\n",
    "\n",
    "thisList=[\"Joshua\", \"Muzuva\", \"Mukisa\", \"Joshua\", \"Mudavana\", \"Charity\"]\n",
    "print(thisList)\n",
    "print(thisList[2])#access via index\n",
    "print(thisList[-2])#negative indexes\n",
    "print(thisList[1:4])#range of indexes\n",
    "print(thisList[0:3])"
   ]
  },
  {
   "cell_type": "code",
   "execution_count": 24,
   "id": "2bab9ee9",
   "metadata": {},
   "outputs": [
    {
     "name": "stdout",
     "output_type": "stream",
     "text": [
      "['this', 65, 'Apostles', 'Shepherd']\n",
      "4\n",
      "<class 'list'>\n"
     ]
    }
   ],
   "source": [
    "#orderd lists\n",
    "unordered=[\"this\", 65, True, \"animal\"]\n",
    "#change item value\n",
    "unordered[3]=45.5\n",
    "#append value\n",
    "unordered.append(\"Shepherd\")#adds at the end\n",
    "#insert\n",
    "unordered.insert(3,\"Apostles\")\n",
    "#remove items\n",
    "unordered.pop(4)#for specified index\n",
    "unordered.remove(True)\n",
    "print(unordered)\n",
    "print(len(unordered))\n",
    "print(type(unordered))"
   ]
  },
  {
   "cell_type": "code",
   "execution_count": 26,
   "id": "61583a4b",
   "metadata": {},
   "outputs": [
    {
     "name": "stdout",
     "output_type": "stream",
     "text": [
      "('tecno', 'samsung', 'nokia', 'infinix')\n",
      "('tecno', 'samsung', 'nokia', 'iphone')\n"
     ]
    }
   ],
   "source": [
    "#TUPLES\n",
    "Phones=(\"tecno\", \"samsung\", \"nokia\", \"infinix\")\n",
    "print(Phones)\n",
    "newPhones=list(Phones)\n",
    "newPhones[3]=\"iphone\"\n",
    "newPhones.append(\"infinix\")\n",
    "phones=tuple(newPhones)\n",
    "print(phones)"
   ]
  },
  {
   "cell_type": "code",
   "execution_count": 3,
   "id": "783a9155",
   "metadata": {},
   "outputs": [
    {
     "data": {
      "text/plain": [
       "{1, 2, 3, 4, 5, 6, 7, 8, 9, 10, 11}"
      ]
     },
     "execution_count": 3,
     "metadata": {},
     "output_type": "execute_result"
    }
   ],
   "source": [
    "#sets\n",
    "Odd_nos = {1,3,5,7,9,11}\n",
    "Even_nos = {2,4,6,8,10}\n",
    "\n",
    "Odd_nos.union(Even_nos)\n",
    "\n"
   ]
  },
  {
   "cell_type": "code",
   "execution_count": 7,
   "id": "b0e51af6",
   "metadata": {},
   "outputs": [
    {
     "name": "stdout",
     "output_type": "stream",
     "text": [
      "{'year': '2020', 'model': 'mustang', 'brand': 'Ford'}\n",
      "Ford\n"
     ]
    }
   ],
   "source": [
    "#dictionaries\n",
    "mydict = {\n",
    "    \"year\":\"2020\",\n",
    "    \"model\":\"mustang\",\n",
    "    \"brand\":\"Ford\"   \n",
    "    }\n",
    "print(mydict)\n",
    "print(mydict[\"brand\"])\n",
    "\n"
   ]
  },
  {
   "cell_type": "code",
   "execution_count": 14,
   "id": "2591a567",
   "metadata": {},
   "outputs": [
    {
     "name": "stdout",
     "output_type": "stream",
     "text": [
      "<class 'bool'>\n",
      "<class 'bool'>\n",
      "False\n",
      "False\n",
      "False\n",
      "True\n",
      "True\n",
      "False\n"
     ]
    }
   ],
   "source": [
    "#booleans\n",
    "print(type(True))\n",
    "print(type(False))\n",
    "#any string is true except an empty string\n",
    "print(bool({}))\n",
    "#any number is true except 0\n",
    "print(bool(0))\n",
    "A= 10\n",
    "B= 20\n",
    "X= \"HELLO\"\n",
    "Y =15\n",
    "print(A==B)\n",
    "print(bool(X))\n",
    "print(bool(Y))\n",
    "\n",
    "class myclass():\n",
    "    def __len__(self):\n",
    "        return 0\n",
    "    \n",
    "myobj = myclass()\n",
    "print(bool(myobj))"
   ]
  },
  {
   "cell_type": "code",
   "execution_count": 29,
   "id": "539676f2",
   "metadata": {},
   "outputs": [
    {
     "name": "stdout",
     "output_type": "stream",
     "text": [
      "True\n",
      "False\n",
      "Atleast one number has Boolean value as false\n",
      "True\n"
     ]
    }
   ],
   "source": [
    "#boolean operators\n",
    "a =1\n",
    "b =34\n",
    "c =100\n",
    "#or operator(exercise1)\n",
    "if a>b or b<c:\n",
    "    print(True)\n",
    "else:\n",
    "    print(False)\n",
    "    \n",
    "#and operator(Exercise2)\n",
    "a =0\n",
    "b =2\n",
    "c= 4\n",
    "\n",
    "if a>b and b<c:\n",
    "    print(True)\n",
    "else:\n",
    "    print(False)\n",
    "    \n",
    "if a and b and c:\n",
    "    print(\"all the numbers have values as true\")\n",
    "else:\n",
    "    print(\"Atleast one number has Boolean value as false\")\n",
    "    \n",
    "#not operator\n"
   ]
  },
  {
   "cell_type": "code",
   "execution_count": 32,
   "id": "9cdf7b91",
   "metadata": {},
   "outputs": [
    {
     "name": "stdout",
     "output_type": "stream",
     "text": [
      "True\n",
      "True\n"
     ]
    }
   ],
   "source": [
    "#program to demonstarte  == & !=\n",
    "a =0\n",
    "b =1\n",
    "if a ==0:\n",
    "    print(True)\n",
    "        \n",
    "if a==b:\n",
    "    print(False)\n",
    "        \n",
    "if a!=b:\n",
    "    print(True)"
   ]
  },
  {
   "cell_type": "code",
   "execution_count": 36,
   "id": "720953d7",
   "metadata": {},
   "outputs": [
    {
     "name": "stdout",
     "output_type": "stream",
     "text": [
      "False\n",
      "True\n"
     ]
    }
   ],
   "source": [
    "#is operator\n",
    "x =[\"a\",\"b\",\"c\",\"d\"]\n",
    "y =[\"a\",\"b\",\"c\",\"d\"]\n",
    "\n",
    "t =10\n",
    "z =10\n",
    "print(x is y)#returns False because x is not the same object as y, even if they have the same content\n",
    "print(t is z)"
   ]
  },
  {
   "cell_type": "code",
   "execution_count": 35,
   "id": "bdadba9e",
   "metadata": {},
   "outputs": [
    {
     "name": "stdout",
     "output_type": "stream",
     "text": [
      "Come and get it\n"
     ]
    }
   ],
   "source": [
    "#in operator\n",
    "Food = [\"apple\", \"grape\",\"humburger\",\"hotdog\"]\n",
    "if \"hotdog\" in Food:\n",
    "    print(\"Come and get it\")"
   ]
  },
  {
   "cell_type": "code",
   "execution_count": 41,
   "id": "aa1994c9",
   "metadata": {},
   "outputs": [
    {
     "name": "stdout",
     "output_type": "stream",
     "text": [
      "1\n",
      "2\n",
      "3\n",
      "4\n",
      "5\n",
      "6\n",
      "7\n",
      "8\n",
      "9\n",
      "\n",
      "\n",
      "4\n",
      "5\n",
      "6\n",
      "7\n",
      "8\n"
     ]
    }
   ],
   "source": [
    "#LOOPING\n",
    "#WHILE LOOP\n",
    "i =1\n",
    "while i<10:\n",
    "    print(i)\n",
    "    i+=1\n",
    " \n",
    "\n",
    "print(\"\\n\")\n",
    "\n",
    "#break\n",
    "i=4\n",
    "while i<10:\n",
    "    print(i)\n",
    "    if i ==8:\n",
    "        break\n",
    "    i+=1"
   ]
  },
  {
   "cell_type": "code",
   "execution_count": null,
   "id": "99f80e6a",
   "metadata": {},
   "outputs": [
    {
     "name": "stdout",
     "output_type": "stream",
     "text": [
      "29\n",
      "30\n",
      "31\n"
     ]
    }
   ],
   "source": [
    "#continue keyword\n",
    "i=29\n",
    "while i<34:\n",
    "   \n",
    "    if i ==32:#32 is skipped\n",
    "        continue\n",
    "    print(i)\n",
    "    i += 1"
   ]
  }
 ],
 "metadata": {
  "kernelspec": {
   "display_name": "Python 3 (ipykernel)",
   "language": "python",
   "name": "python3"
  },
  "language_info": {
   "codemirror_mode": {
    "name": "ipython",
    "version": 3
   },
   "file_extension": ".py",
   "mimetype": "text/x-python",
   "name": "python",
   "nbconvert_exporter": "python",
   "pygments_lexer": "ipython3",
   "version": "3.9.12"
  }
 },
 "nbformat": 4,
 "nbformat_minor": 5
}
