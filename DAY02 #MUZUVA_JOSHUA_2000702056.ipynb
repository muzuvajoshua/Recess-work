{
 "cells": [
  {
   "cell_type": "code",
   "execution_count": 1,
   "id": "594767aa",
   "metadata": {},
   "outputs": [
    {
     "name": "stdout",
     "output_type": "stream",
     "text": [
      "please enter your nameMuzuva Joshua\n",
      "Muzuva Joshua\n"
     ]
    }
   ],
   "source": [
    "#input method\n",
    "Name =input(\"please enter your name\")\n",
    "print(Name)"
   ]
  },
  {
   "cell_type": "code",
   "execution_count": 25,
   "id": "c6be4504",
   "metadata": {},
   "outputs": [
    {
     "name": "stdout",
     "output_type": "stream",
     "text": [
      "['Tesla', 'Audi', 'Jeep', 'Benz']\n",
      "['Tesla', 'Audi', 'Jeep', 'Benz', 'BMW']\n"
     ]
    }
   ],
   "source": [
    "#Arrays\n",
    "cars = ['Tesla', 'Audi', 'Jeep', 'Benz']\n",
    "print(cars)\n",
    "\n",
    "cars.append('BMW')\n",
    "print(cars)"
   ]
  },
  {
   "cell_type": "code",
   "execution_count": 24,
   "id": "f99ee533",
   "metadata": {},
   "outputs": [
    {
     "name": "stdout",
     "output_type": "stream",
     "text": [
      "4\n",
      "Tesla\n",
      "Audi\n",
      "Jeep\n",
      "Benz\n",
      "['Jeep', 'Benz']\n",
      "[]\n",
      "['Jeep', 'Benz']\n",
      "['Jeep', 'Benz', 'BMW']\n",
      "['t-shirt', 'blouse', 'skirt', 'trouser', 'Jeep', 'Benz', 'BMW']\n"
     ]
    }
   ],
   "source": [
    "#LOOPING THRU ARRAY ELEMENNTS\n",
    "cars = ['Tesla', 'Audi', 'Jeep', 'Benz']\n",
    "y = len(cars)\n",
    "print(y)\n",
    "\n",
    "for x in cars:\n",
    "    print(x)\n",
    "\n",
    "    \n",
    "#removing Array Elements\n",
    "cars.remove('Audi')\n",
    "cars.pop(0)\n",
    "print(cars)\n",
    "cars2 = cars.copy()#returns a copy of the list\n",
    "\n",
    "cars.clear()#removes all the elements of the list\n",
    "print(cars)\n",
    "print(cars2)\n",
    "\n",
    "\n",
    "#appending - adds an element at the end of the list\n",
    "cars2.append('BMW')# takes one argument\n",
    "print(cars2)\n",
    "clothes = ['t-shirt', 'blouse', 'skirt','trouser']\n",
    "clothes.extend(cars2)#add elements of a list to the end of the current list\n",
    "print(clothes)"
   ]
  },
  {
   "cell_type": "code",
   "execution_count": 11,
   "id": "39f2de3c",
   "metadata": {},
   "outputs": [
    {
     "name": "stdout",
     "output_type": "stream",
     "text": [
      "tesla\n",
      "Audi\n",
      "Jeep\n",
      "\n",
      "\n",
      "Manu\n",
      "Arsenal\n",
      "liverpool\n",
      "Chelsea\n",
      "\n",
      "\n",
      "M\n",
      "U\n",
      "Z\n",
      "U\n",
      "V\n",
      "A\n",
      " \n",
      "J\n",
      "O\n",
      "S\n",
      "H\n",
      "U\n",
      "A\n"
     ]
    }
   ],
   "source": [
    "#iterator\n",
    "mytuple = ('tesla', 'Audi', 'Jeep')\n",
    "myit = iter(mytuple)\n",
    "\n",
    "print(next(myit))\n",
    "print(next(myit))\n",
    "print(next(myit)) \n",
    "print(\"\\n\")\n",
    "\n",
    "\n",
    "club = ('Manu', 'Arsenal','liverpool','Chelsea')\n",
    "for team in club:\n",
    "    print(team)\n",
    "    \n",
    "print(\"\\n\")\n",
    "    \n",
    "my_name = \"MUZUVA JOSHUA\"\n",
    "for x in my_name:\n",
    "    print(x)"
   ]
  },
  {
   "cell_type": "code",
   "execution_count": 29,
   "id": "6e113350",
   "metadata": {},
   "outputs": [
    {
     "name": "stdout",
     "output_type": "stream",
     "text": [
      "1\n",
      "2\n",
      "3\n",
      "4\n",
      "5\n",
      "6\n",
      "7\n",
      "8\n",
      "9\n"
     ]
    }
   ],
   "source": [
    "#exercise1\n",
    "#creating an iterator that prints a sequence of numbers starting from 1 and in the order(1,2,3,4 etc)\n",
    "\n",
    "class MyNumbers:\n",
    "    def __iter__(self):\n",
    "        self.a =1\n",
    "        return self\n",
    "    def __next__(self):\n",
    "        x =self.a\n",
    "        self.a +=1\n",
    "        return x\n",
    "    \n",
    "myclass = MyNumbers()\n",
    "myiter = iter(myclass)\n",
    "\n",
    "print(next(myiter))\n",
    "print(next(myiter))\n",
    "print(next(myiter))\n",
    "print(next(myiter))\n",
    "print(next(myiter))\n",
    "print(next(myiter))\n",
    "print(next(myiter))\n",
    "print(next(myiter))\n",
    "print(next(myiter))"
   ]
  },
  {
   "cell_type": "code",
   "execution_count": 30,
   "id": "ed357904",
   "metadata": {},
   "outputs": [
    {
     "name": "stdout",
     "output_type": "stream",
     "text": [
      "1\n",
      "2\n",
      "3\n",
      "4\n",
      "5\n",
      "6\n",
      "7\n",
      "8\n",
      "9\n",
      "10\n",
      "11\n",
      "12\n",
      "13\n",
      "14\n",
      "15\n",
      "16\n",
      "17\n",
      "18\n",
      "19\n",
      "20\n"
     ]
    }
   ],
   "source": [
    "#exercise2\n",
    "#stop iteration at 20\n",
    "class nums:\n",
    "    def __iter__(num):\n",
    "        num.a = 1\n",
    "        return num\n",
    "    def __next__(num):\n",
    "        if num.a <=20:\n",
    "            y = num.a\n",
    "            num.a +=1\n",
    "            return y\n",
    "        else:\n",
    "            raise StopIteration\n",
    "            \n",
    "myclass = nums()\n",
    "iterator = iter(myclass)\n",
    "\n",
    "for x in iterator:\n",
    "    print(x)"
   ]
  },
  {
   "cell_type": "code",
   "execution_count": null,
   "id": "bb070557",
   "metadata": {},
   "outputs": [],
   "source": []
  }
 ],
 "metadata": {
  "kernelspec": {
   "display_name": "Python 3 (ipykernel)",
   "language": "python",
   "name": "python3"
  },
  "language_info": {
   "codemirror_mode": {
    "name": "ipython",
    "version": 3
   },
   "file_extension": ".py",
   "mimetype": "text/x-python",
   "name": "python",
   "nbconvert_exporter": "python",
   "pygments_lexer": "ipython3",
   "version": "3.9.12"
  }
 },
 "nbformat": 4,
 "nbformat_minor": 5
}
