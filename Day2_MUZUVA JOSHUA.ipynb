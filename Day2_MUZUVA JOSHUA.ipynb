{
 "cells": [
  {
   "cell_type": "code",
   "execution_count": 2,
   "id": "f27a5b3c",
   "metadata": {},
   "outputs": [
    {
     "name": "stdout",
     "output_type": "stream",
     "text": [
      "ferrari\n",
      "porsche\n",
      "Range\n",
      "J\n",
      "o\n",
      "s\n",
      "h\n",
      "u\n",
      "a\n"
     ]
    }
   ],
   "source": [
    "#for loop\n",
    "cars = [\"ferrari\", \"porsche\",\"Range\"]\n",
    "for c in cars:\n",
    "    print(c)\n",
    "    \n",
    "#STRINGS\n",
    "name = \"Joshua\"\n",
    "for x in name:\n",
    "    print(x)"
   ]
  },
  {
   "cell_type": "code",
   "execution_count": 4,
   "id": "599ace30",
   "metadata": {},
   "outputs": [
    {
     "name": "stdout",
     "output_type": "stream",
     "text": [
      "apple\n",
      "cherry\n"
     ]
    }
   ],
   "source": [
    "#break\n",
    "fruits = [\"apple\", \"cherry\",\"melon\"]\n",
    "for y in fruits:\n",
    "    print(y)\n",
    "    if y ==\"cherry\":\n",
    "        break"
   ]
  },
  {
   "cell_type": "code",
   "execution_count": 8,
   "id": "36206e8c",
   "metadata": {},
   "outputs": [
    {
     "name": "stdout",
     "output_type": "stream",
     "text": [
      "beef_ pizza\n",
      "pineapple_pizza\n",
      "Meat_feast\n"
     ]
    }
   ],
   "source": [
    "#continue\n",
    "pizza = [\"beef_ pizza\", \"pineapple_pizza\",\"Meat_feast\"]\n",
    "for p in pizza:\n",
    "    print(p)\n",
    "    if p == \"pinapple_pizza\":\n",
    "        continue\n",
    "        \n",
    "      "
   ]
  },
  {
   "cell_type": "code",
   "execution_count": 9,
   "id": "c9abbe2c",
   "metadata": {},
   "outputs": [
    {
     "name": "stdout",
     "output_type": "stream",
     "text": [
      "0\n",
      "1\n",
      "2\n",
      "3\n",
      "4\n",
      "5\n"
     ]
    }
   ],
   "source": [
    "#range\n",
    "for x in range(6):#returns a sequence of numbers from 0 till specified number(0-5).\n",
    "    print(x)"
   ]
  },
  {
   "cell_type": "code",
   "execution_count": 10,
   "id": "bb886789",
   "metadata": {},
   "outputs": [
    {
     "name": "stdout",
     "output_type": "stream",
     "text": [
      "2\n",
      "3\n",
      "4\n",
      "5\n"
     ]
    }
   ],
   "source": [
    "for x in range(2,6):#returns a sequence of numbers from 2 till specified number(2-6).\n",
    "    print(x)"
   ]
  },
  {
   "cell_type": "code",
   "execution_count": 11,
   "id": "d35ff1fd",
   "metadata": {},
   "outputs": [
    {
     "name": "stdout",
     "output_type": "stream",
     "text": [
      "finally finished\n",
      "finally finished\n",
      "finally finished\n"
     ]
    }
   ],
   "source": [
    "for x in range(6):\n",
    "    if x ==3:\n",
    "        break\n",
    "        print(x)\n",
    "    else:\n",
    "        print(\"finally finished\")"
   ]
  },
  {
   "cell_type": "code",
   "execution_count": 12,
   "id": "48555e33",
   "metadata": {},
   "outputs": [
    {
     "name": "stdout",
     "output_type": "stream",
     "text": [
      "2\n",
      "3\n",
      "4\n",
      "5\n"
     ]
    }
   ],
   "source": [
    "for x in range(2,6,2):#\n",
    "    print(x)\n",
    "    "
   ]
  },
  {
   "cell_type": "code",
   "execution_count": 14,
   "id": "aec10280",
   "metadata": {},
   "outputs": [
    {
     "name": "stdout",
     "output_type": "stream",
     "text": [
      "red apple\n",
      "red banana\n",
      "red cherry\n",
      "big apple\n",
      "big banana\n",
      "big cherry\n",
      "tasty apple\n",
      "tasty banana\n",
      "tasty cherry\n"
     ]
    }
   ],
   "source": [
    "flavor =[\"red\", \"big\",\"tasty\"]\n",
    "fruits =[\"apple\", \"banana\",\"cherry\"]\n",
    "\n",
    "for x in flavor:\n",
    "    for y in fruits:\n",
    "        print(x,y)"
   ]
  },
  {
   "cell_type": "code",
   "execution_count": 15,
   "id": "4bc43e20",
   "metadata": {},
   "outputs": [],
   "source": [
    "#pass statement - used to avoid errors incase of no content in a for loop\n",
    "for x in [0,1,2]:\n",
    "    pass"
   ]
  },
  {
   "cell_type": "code",
   "execution_count": null,
   "id": "9149ff8a",
   "metadata": {},
   "outputs": [],
   "source": []
  }
 ],
 "metadata": {
  "kernelspec": {
   "display_name": "Python 3 (ipykernel)",
   "language": "python",
   "name": "python3"
  },
  "language_info": {
   "codemirror_mode": {
    "name": "ipython",
    "version": 3
   },
   "file_extension": ".py",
   "mimetype": "text/x-python",
   "name": "python",
   "nbconvert_exporter": "python",
   "pygments_lexer": "ipython3",
   "version": "3.9.12"
  }
 },
 "nbformat": 4,
 "nbformat_minor": 5
}
